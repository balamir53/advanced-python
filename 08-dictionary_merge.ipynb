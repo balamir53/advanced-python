{
 "cells": [
  {
   "cell_type": "code",
   "execution_count": null,
   "id": "bdd86329",
   "metadata": {},
   "outputs": [],
   "source": [
    "x = {\"key1\": \"value1 from x\", \"key2\": \"value2 from x\"}\n",
    "y = {\"key2\": \"value2 from y\", \"key3\": \"value3 from y\"}"
   ]
  },
  {
   "cell_type": "code",
   "execution_count": null,
   "id": "0c09f6d5",
   "metadata": {},
   "outputs": [],
   "source": [
    "z = {**x, **y}\n",
    "print(z)"
   ]
  },
  {
   "cell_type": "markdown",
   "id": "f5949c35",
   "metadata": {},
   "source": [
    "Merge operator"
   ]
  },
  {
   "cell_type": "code",
   "execution_count": null,
   "id": "afb17b37",
   "metadata": {},
   "outputs": [],
   "source": [
    "q = x y\n",
    "print (q)"
   ]
  }
 ],
 "metadata": {
  "kernelspec": {
   "display_name": "Python 3 (ipykernel)",
   "language": "python",
   "name": "python3"
  },
  "language_info": {
   "codemirror_mode": {
    "name": "ipython",
    "version": 3
   },
   "file_extension": ".py",
   "mimetype": "text/x-python",
   "name": "python",
   "nbconvert_exporter": "python",
   "pygments_lexer": "ipython3",
   "version": "3.10.9"
  }
 },
 "nbformat": 4,
 "nbformat_minor": 5
}
