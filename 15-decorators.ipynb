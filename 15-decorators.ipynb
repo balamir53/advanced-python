{
 "cells": [
  {
   "cell_type": "code",
   "execution_count": null,
   "id": "4f4e466d",
   "metadata": {},
   "outputs": [],
   "source": [
    "def make_bold(fn):\n",
    "    return lambda : \"<b>\" + fn() + \"</b>\"\n",
    "\n",
    "\n",
    "def make_italic(fn):\n",
    "    return lambda : \"<i>\" + fn() + \"</i>\"\n",
    "\n",
    "def hello():\n",
    "    return \"hello world\"\n",
    "\n",
    "\n",
    "hello = make_bold(make_italic(hello))\n",
    "helloHTML=hello()\n",
    "\n",
    "print(helloHTML)"
   ]
  },
  {
   "cell_type": "code",
   "execution_count": null,
   "id": "67b5f623",
   "metadata": {},
   "outputs": [],
   "source": [
    "@make_bold\n",
    "@make_italic\n",
    "def hello():\n",
    "    return \"hello world\"\n",
    "\n",
    "helloHTML = hello()\n",
    "\n",
    "print(helloHTML)"
   ]
  },
  {
   "cell_type": "code",
   "execution_count": null,
   "id": "9d0a9fd7",
   "metadata": {},
   "outputs": [],
   "source": []
  }
 ],
 "metadata": {
  "kernelspec": {
   "display_name": "Python 3 (ipykernel)",
   "language": "python",
   "name": "python3"
  },
  "language_info": {
   "codemirror_mode": {
    "name": "ipython",
    "version": 3
   },
   "file_extension": ".py",
   "mimetype": "text/x-python",
   "name": "python",
   "nbconvert_exporter": "python",
   "pygments_lexer": "ipython3",
   "version": "3.10.9"
  }
 },
 "nbformat": 4,
 "nbformat_minor": 5
}
