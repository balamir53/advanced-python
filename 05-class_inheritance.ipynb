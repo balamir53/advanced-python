{
 "cells": [
  {
   "cell_type": "markdown",
   "id": "7c62a09a",
   "metadata": {},
   "source": [
    "A class"
   ]
  },
  {
   "cell_type": "code",
   "execution_count": null,
   "id": "a0aa6776",
   "metadata": {},
   "outputs": [],
   "source": [
    "class Device:\n",
    "    def __init__(self, name, connected_by):\n",
    "        self.name = name\n",
    "        self.connected_by = connected_by\n",
    "        self.connected = True\n",
    "\n",
    "    def __str__(self):\n",
    "        return f\"Device {self.name!r} ({self.connected_by})\"\n",
    "\n",
    "    def disconnect(self):\n",
    "        self.connected = False\n",
    "        \n",
    "printer = Device ('Printer', 'USB')\n",
    "print(printer)"
   ]
  },
  {
   "cell_type": "markdown",
   "id": "65d436da",
   "metadata": {},
   "source": [
    "We don't want to add printer specific stuff do Device...."
   ]
  },
  {
   "cell_type": "code",
   "execution_count": null,
   "id": "bfedd583",
   "metadata": {},
   "outputs": [],
   "source": [
    "class Printer(Device):\n",
    "    def __init__(self, name, connected_by, capacity):\n",
    "        # super(Printer, self).__init__(name, connected_by)  - Python2.7\n",
    "        super()\n",
    "        self.capacity = \n",
    "        self.remaining_pages \n",
    "\n",
    "    def __str__(self):\n",
    "        return f\"{super().__str__()} ({self.remaining_pages} pages remaining)\"\n",
    "\n",
    "    def print(self, pages):\n",
    "        if not self.connected:\n",
    "            raise TypeError(\"Device is disconnected at this time, cannot print.\")\n",
    "        print(f\"Printing {pages} pages.\")\n",
    "        self.remaining_pages -= pages"
   ]
  },
  {
   "cell_type": "code",
   "execution_count": null,
   "id": "50f298e4",
   "metadata": {},
   "outputs": [],
   "source": [
    "printer = Printer(\"Printer\", \"USB\", 500)\n",
    "printer.print(20)\n",
    "print(printer)\n",
    "printer.print(50)\n",
    "print(printer)\n",
    "printer.disconnect()"
   ]
  },
  {
   "cell_type": "code",
   "execution_count": null,
   "id": "f4c4fef3",
   "metadata": {},
   "outputs": [],
   "source": [
    "printer.print(30)  # Error"
   ]
  }
 ],
 "metadata": {
  "kernelspec": {
   "display_name": "Python 3 (ipykernel)",
   "language": "python",
   "name": "python3"
  },
  "language_info": {
   "codemirror_mode": {
    "name": "ipython",
    "version": 3
   },
   "file_extension": ".py",
   "mimetype": "text/x-python",
   "name": "python",
   "nbconvert_exporter": "python",
   "pygments_lexer": "ipython3",
   "version": "3.10.9"
  }
 },
 "nbformat": 4,
 "nbformat_minor": 5
}
