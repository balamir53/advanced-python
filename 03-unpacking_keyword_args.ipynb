{
 "cells": [
  {
   "cell_type": "markdown",
   "id": "0187bb30",
   "metadata": {},
   "source": [
    "Unpacking kwargs"
   ]
  },
  {
   "cell_type": "code",
   "execution_count": null,
   "id": "3bf23d96",
   "metadata": {},
   "outputs": [],
   "source": [
    "def named(**kwargs):\n",
    "    print(kwargs)\n",
    "\n",
    "named(name=\"Bob\", age=25)"
   ]
  },
  {
   "cell_type": "markdown",
   "id": "deb5aecd",
   "metadata": {},
   "source": [
    "Hand over a dictionary instead"
   ]
  },
  {
   "cell_type": "code",
   "execution_count": null,
   "id": "d2f55b38",
   "metadata": {},
   "outputs": [],
   "source": [
    "named({\"name\": \"Bob\", \"age\": 25})"
   ]
  },
  {
   "cell_type": "markdown",
   "id": "fbbd1c5a",
   "metadata": {},
   "source": [
    "Hand over the dic as keywords"
   ]
  },
  {
   "cell_type": "code",
   "execution_count": null,
   "id": "c018575b",
   "metadata": {
    "scrolled": true
   },
   "outputs": [],
   "source": [
    "named()"
   ]
  },
  {
   "cell_type": "markdown",
   "id": "58724e31",
   "metadata": {},
   "source": [
    "Print it nicely"
   ]
  },
  {
   "cell_type": "code",
   "execution_count": null,
   "id": "8371b281",
   "metadata": {},
   "outputs": [],
   "source": [
    "def print_nicely(**kwargs):\n",
    "    named(**kwargs)  # Unpack the dictionary into keyword arguments.\n",
    "    for arg, value in kwargs.items():\n",
    "        print(f\"{arg}: {value}\")\n",
    "\n",
    "print_nicely(name='Bob', age= 25)"
   ]
  },
  {
   "cell_type": "markdown",
   "id": "e30b0ac7",
   "metadata": {},
   "source": [
    "Both args and kwargs"
   ]
  },
  {
   "cell_type": "code",
   "execution_count": null,
   "id": "86c03624",
   "metadata": {},
   "outputs": [],
   "source": [
    "def both(*args, **kwargs):\n",
    "    print(args)\n",
    "    print(kwargs)\n",
    "    \n",
    "both(1, 3, 5, name=\"Bob\", age=25)"
   ]
  },
  {
   "cell_type": "markdown",
   "id": "32d879fc",
   "metadata": {},
   "source": [
    "Some errors"
   ]
  },
  {
   "cell_type": "code",
   "execution_count": null,
   "id": "99345626",
   "metadata": {},
   "outputs": [],
   "source": [
    "def myfunction(**kwargs):\n",
    "    print(kwargs)\n",
    "\n",
    "\n",
    "myfunction(**\"Bob\")  # Error, must be mapping"
   ]
  },
  {
   "cell_type": "code",
   "execution_count": null,
   "id": "86dc7429",
   "metadata": {},
   "outputs": [],
   "source": [
    "myfunction(**None)  # Error"
   ]
  }
 ],
 "metadata": {
  "kernelspec": {
   "display_name": "Python 3 (ipykernel)",
   "language": "python",
   "name": "python3"
  },
  "language_info": {
   "codemirror_mode": {
    "name": "ipython",
    "version": 3
   },
   "file_extension": ".py",
   "mimetype": "text/x-python",
   "name": "python",
   "nbconvert_exporter": "python",
   "pygments_lexer": "ipython3",
   "version": "3.10.9"
  }
 },
 "nbformat": 4,
 "nbformat_minor": 5
}
