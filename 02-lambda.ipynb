{
 "cells": [
  {
   "cell_type": "markdown",
   "id": "13007a50",
   "metadata": {},
   "source": [
    "Add 10 to argument a, and return the result:"
   ]
  },
  {
   "cell_type": "code",
   "execution_count": null,
   "id": "0338bdf8",
   "metadata": {},
   "outputs": [],
   "source": [
    "x = lambda a : a + 10\n",
    "print(x(5))"
   ]
  },
  {
   "cell_type": "markdown",
   "id": "c9a76106",
   "metadata": {},
   "source": [
    "Multiply argument a with argument b and return the result:"
   ]
  },
  {
   "cell_type": "code",
   "execution_count": null,
   "id": "5389a583",
   "metadata": {},
   "outputs": [],
   "source": [
    "x = \n",
    "print(x(5, 6))"
   ]
  },
  {
   "cell_type": "markdown",
   "id": "69d73399",
   "metadata": {},
   "source": [
    "Summarize argument a, b, and c and return the result:"
   ]
  },
  {
   "cell_type": "code",
   "execution_count": null,
   "id": "53703dce",
   "metadata": {},
   "outputs": [],
   "source": [
    "x = \n",
    "print(x(5, 6, 2))"
   ]
  },
  {
   "cell_type": "markdown",
   "id": "6fc593e0",
   "metadata": {},
   "source": [
    "The power of lambda is better shown when you use them as an anonymous function inside another function."
   ]
  },
  {
   "cell_type": "code",
   "execution_count": null,
   "id": "ef07980f",
   "metadata": {},
   "outputs": [],
   "source": [
    "def myfunc(n):\n",
    "  return lambda\n",
    "\n",
    "mydoubler = myfunc(2)\n",
    "\n",
    "print(mydoubler(11))"
   ]
  },
  {
   "cell_type": "markdown",
   "id": "dad817d8",
   "metadata": {},
   "source": [
    "Or, use the same function definition to make a function that always triples the number you send in:"
   ]
  },
  {
   "cell_type": "code",
   "execution_count": null,
   "id": "4dd196b4",
   "metadata": {},
   "outputs": [],
   "source": [
    "mytripler = \n",
    "\n",
    "print(mytripler(11))"
   ]
  },
  {
   "cell_type": "markdown",
   "id": "3208c3b1",
   "metadata": {},
   "source": [
    "Or, use the same function definition to make both functions, in the same program:"
   ]
  },
  {
   "cell_type": "code",
   "execution_count": null,
   "id": "f9d0a4d7",
   "metadata": {},
   "outputs": [],
   "source": [
    "mydoubler = \n",
    "mytripler = \n",
    "\n",
    "print(mydoubler(11))\n",
    "print(mytripler(11))"
   ]
  }
 ],
 "metadata": {
  "kernelspec": {
   "display_name": "Python 3 (ipykernel)",
   "language": "python",
   "name": "python3"
  },
  "language_info": {
   "codemirror_mode": {
    "name": "ipython",
    "version": 3
   },
   "file_extension": ".py",
   "mimetype": "text/x-python",
   "name": "python",
   "nbconvert_exporter": "python",
   "pygments_lexer": "ipython3",
   "version": "3.10.9"
  }
 },
 "nbformat": 4,
 "nbformat_minor": 5
}
