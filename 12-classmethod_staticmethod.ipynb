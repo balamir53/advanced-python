{
 "cells": [
  {
   "cell_type": "code",
   "execution_count": null,
   "id": "e28a0488",
   "metadata": {},
   "outputs": [],
   "source": [
    "class ClassTest:\n",
    "    def instance_method(self):\n",
    "        print(f\"Called instance_method of {self}\")\n",
    "\n",
    "    @classmethod\n",
    "    def class_method(cls):\n",
    "        print(f\"Called class_method of {cls}\")\n",
    "\n",
    "    @staticmethod\n",
    "    def static_method():\n",
    "        print(f\"Called static_method. We don't get any object or class info here.\")\n",
    "\n",
    "\n",
    "instance = ClassTest()\n",
    "instance.instance_method()\n",
    "\n",
    "ClassTest.class_method()\n",
    "ClassTest.static_method()"
   ]
  },
  {
   "cell_type": "markdown",
   "id": "2ada61e1",
   "metadata": {},
   "source": [
    "-- What are they used for? --\n",
    "\n",
    "Instance methods are used for most things. When you want to produce an action that uses the data stored in an object.\n",
    "Static methods are used to just place a method inside a class because you feel it belongs there (i.e. for code organisation, mostly!)\n",
    "Class methods are often used as factories."
   ]
  },
  {
   "cell_type": "code",
   "execution_count": null,
   "id": "1d719c8f",
   "metadata": {},
   "outputs": [],
   "source": [
    "class Book:\n",
    "    TYPES = (\"hardcover\", \"paperback\")\n",
    "\n",
    "    def __init__(self, name, book_type, weight):\n",
    "        self.name = name\n",
    "        self.book_type = book_type\n",
    "        self.weight = weight\n",
    "\n",
    "    def __repr__(self):\n",
    "        return f\"<Book {self.name}, {self.book_type}, weighing {self.weight}g>\"\n",
    "\n",
    "    @classmethod\n",
    "    def hardcover(cls, name, page_weight):\n",
    "        return cls(name, cls.TYPES[0], page_weight + 100)\n",
    "\n",
    "    @classmethod\n",
    "    def paperback(cls, name, page_weight):\n",
    "        return cls(name, cls.TYPES[1], page_weight)\n",
    "\n",
    "\n",
    "heavy = Book.hardcover(\"Harry Potter\", 1500)\n",
    "light = Book.paperback(\"Python 101\", 600)\n",
    "\n",
    "print(heavy)\n",
    "print(light)"
   ]
  }
 ],
 "metadata": {
  "kernelspec": {
   "display_name": "Python 3 (ipykernel)",
   "language": "python",
   "name": "python3"
  },
  "language_info": {
   "codemirror_mode": {
    "name": "ipython",
    "version": 3
   },
   "file_extension": ".py",
   "mimetype": "text/x-python",
   "name": "python",
   "nbconvert_exporter": "python",
   "pygments_lexer": "ipython3",
   "version": "3.10.9"
  }
 },
 "nbformat": 4,
 "nbformat_minor": 5
}
