{
 "cells": [
  {
   "cell_type": "markdown",
   "id": "c272da37",
   "metadata": {},
   "source": [
    "Define a divide function"
   ]
  },
  {
   "cell_type": "code",
   "execution_count": null,
   "id": "832c4a2a",
   "metadata": {},
   "outputs": [],
   "source": [
    "def divide(dividend, divisor):\n",
    "    if divisor == 0:\n",
    "        raise ZeroDivisionError(\"Divisor cannot be 0.\")\n",
    "    return dividend / divisor\n",
    "\n",
    "grades = []\n",
    "\n",
    "average = divide(sum(grades) / len(grades))"
   ]
  },
  {
   "cell_type": "markdown",
   "id": "857bd4ca",
   "metadata": {},
   "source": [
    "Encapsulate average definition with try and except"
   ]
  },
  {
   "cell_type": "code",
   "execution_count": null,
   "id": "b8fd4339",
   "metadata": {},
   "outputs": [],
   "source": [
    "try:\n",
    "    \n",
    "except ZeroDivisionError as :\n",
    "    print()\n",
    "    print(\"There are no grades yet in your list.\")"
   ]
  },
  {
   "cell_type": "markdown",
   "id": "d19cc165",
   "metadata": {},
   "source": [
    "-- Built-in errors --\n",
    "\n",
    "TypeError: something was the wrong type\n",
    "ValueError: something had the wrong value\n",
    "RuntimeError: most other things\n",
    "\n",
    "Full list of built-in errors: https://docs.python.org/3/library/exceptions.html"
   ]
  },
  {
   "cell_type": "markdown",
   "id": "6af69a68",
   "metadata": {},
   "source": [
    "Doing sth if no error is raised"
   ]
  },
  {
   "cell_type": "code",
   "execution_count": null,
   "id": "9a47c328",
   "metadata": {},
   "outputs": [],
   "source": [
    "grades = [90, 100, 85]\n",
    "\n",
    "try:\n",
    "    average = divide(sum(grades), len(grades))\n",
    "except ZeroDivisionError:\n",
    "    print(\"There are no grades yet in your list.\")\n",
    "else:\n",
    "    print(f\"The average was {average}\")"
   ]
  },
  {
   "cell_type": "code",
   "execution_count": null,
   "id": "21ee2cb0",
   "metadata": {},
   "outputs": [],
   "source": [
    "students = [\n",
    "    {\"name\": \"Bob\", \"grades\": [75, 90]},\n",
    "    {\"name\": \"Rolf\", \"grades\": []},\n",
    "    {\"name\": \"Jen\", \"grades\": [100, 90]},\n",
    "]"
   ]
  },
  {
   "cell_type": "markdown",
   "id": "7eb895fc",
   "metadata": {},
   "source": [
    "Doing sth no matter what"
   ]
  },
  {
   "cell_type": "code",
   "execution_count": null,
   "id": "d3b50580",
   "metadata": {},
   "outputs": [],
   "source": [
    "try:\n",
    "    for student in students:\n",
    "        name = student[\"name\"]\n",
    "        grades = student[\"grades\"]\n",
    "        average = divide(sum(grades), len(grades))\n",
    "        print(f\"{name} averaged {average}.\")\n",
    "except ZeroDivisionError:\n",
    "    print(f\"ERROR: {name} has no grades!\")\n"
   ]
  }
 ],
 "metadata": {
  "kernelspec": {
   "display_name": "Python 3 (ipykernel)",
   "language": "python",
   "name": "python3"
  },
  "language_info": {
   "codemirror_mode": {
    "name": "ipython",
    "version": 3
   },
   "file_extension": ".py",
   "mimetype": "text/x-python",
   "name": "python",
   "nbconvert_exporter": "python",
   "pygments_lexer": "ipython3",
   "version": "3.10.9"
  }
 },
 "nbformat": 4,
 "nbformat_minor": 5
}
