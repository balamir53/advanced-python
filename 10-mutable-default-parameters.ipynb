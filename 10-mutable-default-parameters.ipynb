{
 "cells": [
  {
   "cell_type": "code",
   "execution_count": 1,
   "id": "93de7f98",
   "metadata": {},
   "outputs": [
    {
     "name": "stdout",
     "output_type": "stream",
     "text": [
      "[90]\n",
      "[90]\n"
     ]
    }
   ],
   "source": [
    "from typing import List\n",
    "\n",
    "\n",
    "class Student:\n",
    "    def __init__(self, name: str, grades: List[int] = []):  # This is bad!\n",
    "        self.name = name\n",
    "        self.grades = grades\n",
    "\n",
    "    def take_exam(self, result):\n",
    "        self.grades.append(result)\n",
    "\n",
    "bob = Student(\"Bob\")\n",
    "rolf = Student(\"Rolf\")\n",
    "bob.take_exam(90)\n",
    "print(bob.grades)\n",
    "print(rolf.grades)  # Whaaaaaat"
   ]
  },
  {
   "cell_type": "code",
   "execution_count": null,
   "id": "916d0ac3",
   "metadata": {},
   "outputs": [],
   "source": [
    "# The function parameters evaluate when the function is defined, not when it runs.\n",
    "# That means that self.grades is a name for the list that was evaluated when the function was defined.\n",
    "# We're then modifying it in take_exam\n",
    "# But all calls to the __init__ method have the same list (because parameters are only evaluated once!)\n",
    "# So all students have the same list\n",
    "\n",
    "# Avoid it by not having mutable parameters."
   ]
  },
  {
   "cell_type": "code",
   "execution_count": 2,
   "id": "cf6617ad",
   "metadata": {},
   "outputs": [
    {
     "name": "stdout",
     "output_type": "stream",
     "text": [
      "[90]\n",
      "[]\n"
     ]
    }
   ],
   "source": [
    "from typing import List\n",
    "\n",
    "\n",
    "class Student:\n",
    "    def __init__(self, name: str, grades: List[int] = None):\n",
    "        self.name = name\n",
    "        self.grades = grades or []  # New list created if one isn't passed\n",
    "\n",
    "    def take_exam(self, result):\n",
    "        self.grades.append(result)\n",
    "\n",
    "\n",
    "bob = Student(\"Bob\")\n",
    "rolf = Student(\"Rolf\")\n",
    "bob.take_exam(90)\n",
    "print(bob.grades)\n",
    "print(rolf.grades)  # Now it's empty."
   ]
  },
  {
   "cell_type": "code",
   "execution_count": null,
   "id": "75ea1835",
   "metadata": {},
   "outputs": [],
   "source": []
  }
 ],
 "metadata": {
  "kernelspec": {
   "display_name": "Python 3 (ipykernel)",
   "language": "python",
   "name": "python3"
  },
  "language_info": {
   "codemirror_mode": {
    "name": "ipython",
    "version": 3
   },
   "file_extension": ".py",
   "mimetype": "text/x-python",
   "name": "python",
   "nbconvert_exporter": "python",
   "pygments_lexer": "ipython3",
   "version": "3.10.9"
  }
 },
 "nbformat": 4,
 "nbformat_minor": 5
}
