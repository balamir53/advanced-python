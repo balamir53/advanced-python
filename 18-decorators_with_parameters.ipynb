{
 "cells": [
  {
   "cell_type": "code",
   "execution_count": null,
   "id": "885a6100",
   "metadata": {},
   "outputs": [],
   "source": [
    "import functools\n",
    "\n",
    "user = {\"username\": \"anna\", \"access_level\": \"user\"}\n",
    "\n",
    "\n",
    "def make_secure(func):\n",
    "    @functools.wraps(func)\n",
    "    def secure_function(*args, **kwargs):\n",
    "        if user[\"access_level\"] == \"admin\":\n",
    "            return func(*args, **kwargs)\n",
    "        else:\n",
    "            return f\"No admin permissions for {user['username']}.\"\n",
    "\n",
    "    return secure_function\n",
    "\n",
    "\n",
    "@make_secure\n",
    "def get_admin_password():\n",
    "    return \"admin: 1234\"\n",
    "\n",
    "\n",
    "@make_secure\n",
    "def get_dashboard_password():\n",
    "    return \"user: user_password\""
   ]
  },
  {
   "cell_type": "markdown",
   "id": "2dc253f9",
   "metadata": {},
   "source": [
    "What if we wanted some passwords to be available to \"user\" and others to \"admin\" ?"
   ]
  },
  {
   "cell_type": "code",
   "execution_count": null,
   "id": "019296f4",
   "metadata": {},
   "outputs": [],
   "source": [
    "user = {\"username\": \"anna\", \"access_level\": \"user\"}\n",
    "\n",
    "\n",
    "def make_secure(access_level):\n",
    "    def decorator(func):\n",
    "        @functools.wraps(func)\n",
    "        def secure_function(*args, **kwargs):\n",
    "            if user[\"access_level\"] == access_level:\n",
    "                return func(*args, **kwargs)\n",
    "            else:\n",
    "                return f\"No {access_level} permissions for {user['username']}.\"\n",
    "\n",
    "        return secure_function\n",
    "\n",
    "    return decorator\n",
    "\n",
    "\n",
    "@make_secure(\n",
    "    \"admin\"\n",
    ")  # This runs the make_secure function, which returns decorator. Essentially the same to doing `@decorator`, which is what we had before.\n",
    "def get_admin_password():\n",
    "    return \"admin: 1234\"\n",
    "\n",
    "\n",
    "@make_secure(\"user\")\n",
    "def get_dashboard_password():\n",
    "    return \"user: user_password\"\n",
    "\n",
    "\n",
    "print(get_admin_password())\n",
    "print(get_dashboard_password())\n",
    "\n",
    "user = {\"username\": \"anna\", \"access_level\": \"admin\"}\n",
    "\n",
    "print(get_admin_password())\n",
    "print(get_dashboard_password())"
   ]
  },
  {
   "cell_type": "code",
   "execution_count": null,
   "id": "35c561d1",
   "metadata": {},
   "outputs": [],
   "source": []
  }
 ],
 "metadata": {
  "kernelspec": {
   "display_name": "Python 3 (ipykernel)",
   "language": "python",
   "name": "python3"
  },
  "language_info": {
   "codemirror_mode": {
    "name": "ipython",
    "version": 3
   },
   "file_extension": ".py",
   "mimetype": "text/x-python",
   "name": "python",
   "nbconvert_exporter": "python",
   "pygments_lexer": "ipython3",
   "version": "3.10.9"
  }
 },
 "nbformat": 4,
 "nbformat_minor": 5
}
