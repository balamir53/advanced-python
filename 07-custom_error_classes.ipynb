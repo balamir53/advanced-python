{
 "cells": [
  {
   "cell_type": "markdown",
   "id": "2d3b4365",
   "metadata": {},
   "source": [
    "Here is a book class"
   ]
  },
  {
   "cell_type": "code",
   "execution_count": null,
   "id": "19d74d86",
   "metadata": {},
   "outputs": [],
   "source": [
    "class Book:\n",
    "    def __init__(self, name: str, page_count: int):\n",
    "        self.name = name\n",
    "        self.page_count = page_count\n",
    "        self.pages_read = 0\n",
    "\n",
    "    def __repr__(self):\n",
    "        return (\n",
    "            f\"<Book {self.name}, read {self.pages_read} pages out of {self.page_count}>\"\n",
    "        )\n",
    "\n",
    "    def read(self, pages: int):\n",
    "        self.pages_read += pages\n",
    "        print(f\"You have now read {self.pages_read} pages out of {self.page_count}\")"
   ]
  },
  {
   "cell_type": "markdown",
   "id": "de71a88e",
   "metadata": {},
   "source": [
    "Now create a book and start to read it"
   ]
  },
  {
   "cell_type": "code",
   "execution_count": null,
   "id": "bfa6bf65",
   "metadata": {},
   "outputs": [],
   "source": [
    "python101 = Book(\"Python 101\", 50)\n",
    "python101.read(35)\n",
    "python101.read(50)  # Whaaaat"
   ]
  },
  {
   "cell_type": "markdown",
   "id": "d63f4448",
   "metadata": {},
   "source": [
    "Errors used to prevent things from happening"
   ]
  },
  {
   "cell_type": "code",
   "execution_count": null,
   "id": "1f96558d",
   "metadata": {},
   "outputs": [],
   "source": [
    "class TooManyPagesReadError(ValueError):\n",
    "    pass"
   ]
  },
  {
   "cell_type": "markdown",
   "id": "20e5850c",
   "metadata": {},
   "source": [
    "Now insert this error to the appropriate place"
   ]
  },
  {
   "cell_type": "code",
   "execution_count": null,
   "id": "249be5f4",
   "metadata": {},
   "outputs": [],
   "source": [
    "class Book:\n",
    "    def __init__(self, name: str, page_count: int):\n",
    "        self.name = name\n",
    "        self.page_count = page_count\n",
    "        self.pages_read = 0\n",
    "\n",
    "    def __repr__(self):\n",
    "        return (\n",
    "            f\"<Book {self.name}, read {self.pages_read} pages out of {self.page_count}>\"\n",
    "        )\n",
    "\n",
    "    def read(self, pages: int):\n",
    "        if self.pages_read + pages > self.page_count:\n",
    "          \n",
    "        self.pages_read += pages\n",
    "        print(f\"You have now read {self.pages_read} pages out of {self.page_count}\")"
   ]
  },
  {
   "cell_type": "markdown",
   "id": "cd967299",
   "metadata": {},
   "source": [
    "Read again"
   ]
  },
  {
   "cell_type": "code",
   "execution_count": null,
   "id": "0aa60f28",
   "metadata": {},
   "outputs": [],
   "source": [
    "python101 = Book(\"Python 101\", 50)\n",
    "python101.read(35)\n",
    "python101.read(\n",
    "    50\n",
    ") "
   ]
  }
 ],
 "metadata": {
  "kernelspec": {
   "display_name": "Python 3 (ipykernel)",
   "language": "python",
   "name": "python3"
  },
  "language_info": {
   "codemirror_mode": {
    "name": "ipython",
    "version": 3
   },
   "file_extension": ".py",
   "mimetype": "text/x-python",
   "name": "python",
   "nbconvert_exporter": "python",
   "pygments_lexer": "ipython3",
   "version": "3.10.9"
  }
 },
 "nbformat": 4,
 "nbformat_minor": 5
}
