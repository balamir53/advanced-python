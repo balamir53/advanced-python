{
 "cells": [
  {
   "cell_type": "code",
   "execution_count": null,
   "id": "7a4dc43f",
   "metadata": {},
   "outputs": [],
   "source": [
    "user = {\"username\": \"jose\", \"access_level\": \"guest\"}\n",
    "\n",
    "\n",
    "def make_secure(func):\n",
    "    def secure_function():\n",
    "        if user[\"access_level\"] == \"admin\":\n",
    "            return func()\n",
    "        else:\n",
    "            return f\"No admin permissions for {user['username']}.\"\n",
    "\n",
    "    return secure_function\n",
    "\n",
    "\n",
    "@make_secure\n",
    "def get_admin_password():\n",
    "    return \"1234\"\n",
    "\n",
    "print(get_admin_password())\n",
    "print(get_admin_password.__name__)"
   ]
  },
  {
   "cell_type": "code",
   "execution_count": null,
   "id": "0a7fa8d7",
   "metadata": {},
   "outputs": [],
   "source": [
    "# -- keeping function name and docstring --\n",
    "import functools\n",
    "\n",
    "\n",
    "user = {\"username\": \"jose\", \"access_level\": \"guest\"}\n",
    "\n",
    "\n",
    "def make_secure(func):\n",
    "    @functools.wraps(func)\n",
    "    def secure_function():\n",
    "        if user[\"access_level\"] == \"admin\":\n",
    "            return func()\n",
    "        else:\n",
    "            return f\"No admin permissions for {user['username']}.\"\n",
    "\n",
    "    return secure_function\n",
    "\n",
    "\n",
    "@make_secure\n",
    "def get_admin_password():\n",
    "    return \"1234\"\n",
    "\n",
    "print(get_admin_password())\n",
    "print(get_admin_password.__name__)"
   ]
  },
  {
   "cell_type": "code",
   "execution_count": null,
   "id": "4513655b",
   "metadata": {},
   "outputs": [],
   "source": []
  }
 ],
 "metadata": {
  "kernelspec": {
   "display_name": "Python 3 (ipykernel)",
   "language": "python",
   "name": "python3"
  },
  "language_info": {
   "codemirror_mode": {
    "name": "ipython",
    "version": 3
   },
   "file_extension": ".py",
   "mimetype": "text/x-python",
   "name": "python",
   "nbconvert_exporter": "python",
   "pygments_lexer": "ipython3",
   "version": "3.10.9"
  }
 },
 "nbformat": 4,
 "nbformat_minor": 5
}
