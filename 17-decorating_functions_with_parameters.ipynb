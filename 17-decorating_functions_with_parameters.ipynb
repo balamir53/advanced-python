{
 "cells": [
  {
   "cell_type": "code",
   "execution_count": null,
   "id": "84aa65e9",
   "metadata": {},
   "outputs": [],
   "source": [
    "import functools\n",
    "\n",
    "\n",
    "user = {\"username\": \"jose\", \"access_level\": \"guest\"}\n",
    "\n",
    "\n",
    "def make_secure(func):\n",
    "    @functools.wraps(func)\n",
    "    def secure_function(panel):\n",
    "        if user[\"access_level\"] == \"admin\":\n",
    "            return func(panel)\n",
    "        else:\n",
    "            return f\"No admin permissions for {user['username']}.\"\n",
    "\n",
    "    return secure_function\n",
    "\n",
    "@make_secure\n",
    "def get_password(panel):\n",
    "    if panel == \"admin\":\n",
    "        return \"1234\"\n",
    "    elif panel == \"billing\":\n",
    "        return \"super_secure_password\"\n",
    "    \n",
    "print(get_password('admin')) "
   ]
  },
  {
   "cell_type": "markdown",
   "id": "a5cfad8a",
   "metadata": {},
   "source": [
    "print(get_password(\"admin\"))  # Error before adding parameters, works after\n",
    "But now we've coupled our function to our decorator. We can't decorate a different function, which isn't great!\n",
    "Instead we could take unlimited parameters and pass whatever we get down to the original function"
   ]
  },
  {
   "cell_type": "code",
   "execution_count": null,
   "id": "9d7af025",
   "metadata": {},
   "outputs": [],
   "source": [
    "user = {\"username\": \"jose\", \"access_level\": \"guest\"}\n",
    "\n",
    "def make_secure(func):\n",
    "    @functools.wraps(func)\n",
    "    def secure_function(*args, **kwargs):\n",
    "        if user[\"access_level\"] == \"admin\":\n",
    "            return func(*args, **kwargs)\n",
    "        else:\n",
    "            return f\"No admin permissions for {user['username']}.\"\n",
    "\n",
    "    return secure_function\n",
    "\n",
    "\n",
    "@make_secure\n",
    "def get_password(panel):\n",
    "    if panel == \"admin\":\n",
    "        return \"1234\"\n",
    "    elif panel == \"billing\":\n",
    "        return \"super_secure_password\"\n",
    "\n",
    "\n",
    "print(get_password(\"admin\"))\n",
    "print(get_password(\"billing\"))\n",
    "\n",
    "user = {\"username\": \"bob\", \"access_level\": \"admin\"}\n",
    "\n",
    "print(get_password(\"admin\"))\n",
    "print(get_password(\"billing\"))"
   ]
  },
  {
   "cell_type": "code",
   "execution_count": null,
   "id": "ff763621",
   "metadata": {},
   "outputs": [],
   "source": []
  }
 ],
 "metadata": {
  "kernelspec": {
   "display_name": "Python 3 (ipykernel)",
   "language": "python",
   "name": "python3"
  },
  "language_info": {
   "codemirror_mode": {
    "name": "ipython",
    "version": 3
   },
   "file_extension": ".py",
   "mimetype": "text/x-python",
   "name": "python",
   "nbconvert_exporter": "python",
   "pygments_lexer": "ipython3",
   "version": "3.10.9"
  }
 },
 "nbformat": 4,
 "nbformat_minor": 5
}
