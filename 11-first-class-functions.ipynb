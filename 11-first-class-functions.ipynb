{
 "cells": [
  {
   "cell_type": "code",
   "execution_count": null,
   "id": "16c9b868",
   "metadata": {},
   "outputs": [],
   "source": [
    "# A first class function just means that functions can be passed as arguments to functions.\n",
    "\n",
    "\n",
    "def calculate(*values, operator):\n",
    "    return operator(*values)\n",
    "\n",
    "\n",
    "def divide(dividend, divisor):\n",
    "    if divisor != 0:\n",
    "        return dividend / divisor\n",
    "    else:\n",
    "        return \"You fool!\"\n",
    "    \n",
    "# We pass the `divide` function as an argument\n",
    "result = calculate(20, 4, operator=divide)\n",
    "print(result)"
   ]
  },
  {
   "cell_type": "markdown",
   "id": "8e16cd09",
   "metadata": {},
   "source": [
    "Do the same with a first-class function that takes averages of some values"
   ]
  },
  {
   "cell_type": "code",
   "execution_count": null,
   "id": "e48f8f1c",
   "metadata": {},
   "outputs": [],
   "source": [
    "def average(*values):\n",
    "    return sum(values) / len(values)\n",
    "\n",
    "result = calculate(10, 20, 30, 40, operator=average)\n",
    "print(result)"
   ]
  },
  {
   "cell_type": "markdown",
   "id": "1b65ac3f",
   "metadata": {},
   "source": [
    "Searching with first-class functions"
   ]
  },
  {
   "cell_type": "code",
   "execution_count": null,
   "id": "1320939d",
   "metadata": {},
   "outputs": [],
   "source": [
    "def search(sequence, expected, finder):\n",
    "    for elem in sequence:\n",
    "        if finder(elem) == expected:\n",
    "            return elem\n",
    "    raise RuntimeError(f\"Could not find an element with {expected}\")\n",
    "    \n",
    "friends = [\n",
    "    {\"name\": \"Rolf Smith\", \"age\": 24},\n",
    "    {\"name\": \"Adam Wool\", \"age\": 30},\n",
    "    {\"name\": \"Anne Pun\", \"age\": 27},\n",
    "]\n",
    "\n",
    "def get_friend_name(friend):\n",
    "    return friend[\"name\"]\n",
    "\n",
    "print(search(friends, \"Bob Smith\", get_friend_name))"
   ]
  },
  {
   "cell_type": "markdown",
   "id": "7f990975",
   "metadata": {},
   "source": [
    "Using lambdas since this can be simple enough"
   ]
  },
  {
   "cell_type": "code",
   "execution_count": null,
   "id": "5459b324",
   "metadata": {},
   "outputs": [],
   "source": [
    "print(search(friends, \"Bob Smith\", )"
   ]
  },
  {
   "cell_type": "markdown",
   "id": "9f8f6c9f",
   "metadata": {},
   "source": [
    "Using builtin functions"
   ]
  },
  {
   "cell_type": "code",
   "execution_count": null,
   "id": "3b2858c2",
   "metadata": {},
   "outputs": [],
   "source": [
    "from operator import itemgetter\n",
    "\n",
    "print(search(friends, \"Rolf Smith\", )"
   ]
  }
 ],
 "metadata": {
  "kernelspec": {
   "display_name": "Python 3 (ipykernel)",
   "language": "python",
   "name": "python3"
  },
  "language_info": {
   "codemirror_mode": {
    "name": "ipython",
    "version": 3
   },
   "file_extension": ".py",
   "mimetype": "text/x-python",
   "name": "python",
   "nbconvert_exporter": "python",
   "pygments_lexer": "ipython3",
   "version": "3.10.9"
  }
 },
 "nbformat": 4,
 "nbformat_minor": 5
}
