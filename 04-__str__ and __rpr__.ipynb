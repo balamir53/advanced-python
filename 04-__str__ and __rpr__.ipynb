{
 "cells": [
  {
   "cell_type": "markdown",
   "id": "a5ad34b9",
   "metadata": {},
   "source": [
    "Print a class"
   ]
  },
  {
   "cell_type": "code",
   "execution_count": null,
   "id": "3c45ee58",
   "metadata": {},
   "outputs": [],
   "source": [
    "class Person:\n",
    "    def __init__(self, name, age):\n",
    "        self.name = name\n",
    "        self.age = age\n",
    "\n",
    "\n",
    "bob = Person(\"Bob\", 35)\n",
    "print(bob)"
   ]
  },
  {
   "cell_type": "markdown",
   "id": "eab22a1c",
   "metadata": {},
   "source": [
    "The goal of __str__ is to return a nice and easy to read strings for end users."
   ]
  },
  {
   "cell_type": "code",
   "execution_count": null,
   "id": "bd99f788",
   "metadata": {},
   "outputs": [],
   "source": [
    "class Person:\n",
    "    def __init__(self, name, age):\n",
    "        self.name = name\n",
    "        self.age = age\n",
    "\n",
    "    def __str__(self):\n",
    "        return f\"Person {self.name}, {self.age} years old\"\n",
    "    \n",
    "bob = Person(\"Bob\", 35)\n",
    "print(bob)"
   ]
  },
  {
   "cell_type": "markdown",
   "id": "238d8578",
   "metadata": {},
   "source": [
    "The goal of __repr__ is to be unambigous and if possible what it outputs should allow us to re-create an identical object."
   ]
  },
  {
   "cell_type": "code",
   "execution_count": null,
   "id": "6ce92dfa",
   "metadata": {},
   "outputs": [],
   "source": [
    "class Person:\n",
    "    def __init__(self, name, age):\n",
    "        self.name = name\n",
    "        self.age = age\n",
    "\n",
    "    def __repr__(self):\n",
    "        # I'm adding the < > just so it's clear that this is an object we're printing out!\n",
    "        return (\n",
    "            f\"<Person({self.name!r}, {self.age})>\"\n",
    "        )  # !r calls the __repr__ method of the thing.\n",
    "\n",
    "\n",
    "bob = Person(\"Bob\", 35)\n",
    "print(bob)  # Not as nice, but we could re-create \"Bob\" very easily."
   ]
  }
 ],
 "metadata": {
  "kernelspec": {
   "display_name": "Python 3 (ipykernel)",
   "language": "python",
   "name": "python3"
  },
  "language_info": {
   "codemirror_mode": {
    "name": "ipython",
    "version": 3
   },
   "file_extension": ".py",
   "mimetype": "text/x-python",
   "name": "python",
   "nbconvert_exporter": "python",
   "pygments_lexer": "ipython3",
   "version": "3.10.9"
  }
 },
 "nbformat": 4,
 "nbformat_minor": 5
}
