{
 "cells": [
  {
   "cell_type": "code",
   "execution_count": null,
   "id": "e8a7dd12",
   "metadata": {},
   "outputs": [],
   "source": [
    "student = {\"name\": \"Rolf\", \"grades\": (89, 90, 93, 78, 90)}\n",
    "\n",
    "\n",
    "def average(sequence):\n",
    "    return sum(sequence) / len(sequence)\n",
    "\n",
    "\n",
    "print(average(student[\"grades\"]))"
   ]
  },
  {
   "cell_type": "markdown",
   "id": "43fbd6b0",
   "metadata": {},
   "source": [
    "But wouldn't it be nice if we could...\n",
    "print(student.average()) ?"
   ]
  },
  {
   "cell_type": "code",
   "execution_count": null,
   "id": "7bec390d",
   "metadata": {},
   "outputs": [],
   "source": [
    "class Student:\n",
    "    def __init__(self):\n",
    "        self.name = \"Rolf\"\n",
    "        self.grades = (89, 90, 93, 78, 90)\n",
    "\n",
    "    def average(self):\n",
    "        return sum(self.grades) / len(self.grades)\n",
    "\n",
    "\n",
    "student = Student()\n",
    "print(student.average())\n",
    "# identical\n",
    "# print(Student.average(student))\n"
   ]
  },
  {
   "cell_type": "markdown",
   "id": "8a3b58a1",
   "metadata": {},
   "source": [
    "-- Parameters in __init__ --"
   ]
  },
  {
   "cell_type": "code",
   "execution_count": null,
   "id": "2a20044b",
   "metadata": {},
   "outputs": [],
   "source": [
    "class Student:\n",
    "    def __init__(self, name, grades):\n",
    "        self.name = name\n",
    "        self.grades = grades\n",
    "\n",
    "    def average(self):\n",
    "        return sum(self.grades) / len(self.grades)\n",
    "\n",
    "\n",
    "student = Student(\"Bob\", (36, 67, 90, 100, 100))\n",
    "print(student.average())"
   ]
  },
  {
   "cell_type": "markdown",
   "id": "9b5b935e",
   "metadata": {},
   "source": [
    "-- Remember *args ? --"
   ]
  },
  {
   "cell_type": "code",
   "execution_count": null,
   "id": "7fb42019",
   "metadata": {},
   "outputs": [],
   "source": [
    "class Student:\n",
    "    def __init__(self, name, *grades):\n",
    "        self.name = name\n",
    "        self.grades = grades\n",
    "\n",
    "    def average(self):\n",
    "        return sum(self.grades) / len(self.grades)\n",
    "\n",
    "\n",
    "student = Student(\"Bob\", 36, 67, 90, 100, 100)\n",
    "print(student.average())"
   ]
  }
 ],
 "metadata": {
  "kernelspec": {
   "display_name": "Python 3 (ipykernel)",
   "language": "python",
   "name": "python3"
  },
  "language_info": {
   "codemirror_mode": {
    "name": "ipython",
    "version": 3
   },
   "file_extension": ".py",
   "mimetype": "text/x-python",
   "name": "python",
   "nbconvert_exporter": "python",
   "pygments_lexer": "ipython3",
   "version": "3.10.9"
  }
 },
 "nbformat": 4,
 "nbformat_minor": 5
}
