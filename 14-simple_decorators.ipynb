{
 "cells": [
  {
   "cell_type": "code",
   "execution_count": null,
   "id": "657cf3e5",
   "metadata": {},
   "outputs": [],
   "source": [
    "user = {\"username\": \"jose\", \"access_level\": \"guest\"}\n",
    "\n",
    "\n",
    "def get_admin_password():\n",
    "    return \"1234\"\n",
    "\n",
    "\n",
    "print(get_admin_password())  # Can do this even though I'm a \"guest\""
   ]
  },
  {
   "cell_type": "code",
   "execution_count": null,
   "id": "85305347",
   "metadata": {},
   "outputs": [],
   "source": [
    "# Now this only runs if I'm an admin... but\n",
    "if user[\"access_level\"] == \"admin\":\n",
    "    print(get_admin_password())\n",
    "\n",
    "print(get_admin_password())  # The function itself is still unsecured"
   ]
  },
  {
   "cell_type": "markdown",
   "id": "f4abc1db",
   "metadata": {},
   "source": [
    "-- \"secure\" function --"
   ]
  },
  {
   "cell_type": "code",
   "execution_count": null,
   "id": "e93fd9fa",
   "metadata": {},
   "outputs": [],
   "source": [
    "def secure_get_admin():\n",
    "    if user[\"access_level\"] == \"admin\":\n",
    "        print(get_admin_password())\n",
    "\n",
    "\n",
    "# Now secure_get_admin() is secure.\n",
    "# But get_admin_password() is still around, and I could call it:\n",
    "\n",
    "secure_get_admin()\n",
    "print(get_admin_password())"
   ]
  },
  {
   "cell_type": "markdown",
   "id": "99cb0086",
   "metadata": {},
   "source": [
    "We want to get rid of get_admin_password so that only the secure function remains!\n",
    "Maybe something like this?"
   ]
  },
  {
   "cell_type": "code",
   "execution_count": null,
   "id": "992be9e7",
   "metadata": {},
   "outputs": [],
   "source": [
    "# print(user['access_level'])\n",
    "def secure_function(func):\n",
    "    if user[\"access_level\"] == \"admin\":\n",
    "        return func\n",
    "\n",
    "\n",
    "user = {\"username\": \"bob\", \"access_level\": \"admin\"}\n",
    "\n",
    "get_admin_password = secure_function(get_admin_password)\n",
    "print(get_admin_password())  # Error!\n",
    "\n",
    "# When we ran `secure_function`, we checked the user's access level. Because at that point the user was not an admin, the function did not `return func`. Therefore `get_admin_password` is set to `None`.\n",
    "\n",
    "# We want to delay overwriting until we run the function"
   ]
  },
  {
   "cell_type": "code",
   "execution_count": null,
   "id": "00681b18",
   "metadata": {},
   "outputs": [],
   "source": [
    "def get_admin_password():\n",
    "    return \"1234\"\n",
    "\n",
    "\n",
    "def make_secure(func):\n",
    "    def secure_function():\n",
    "        if user[\"access_level\"] == \"admin\":\n",
    "            return func()\n",
    "\n",
    "    return secure_function\n",
    "\n",
    "\n",
    "get_admin_password = make_secure(\n",
    "    get_admin_password\n",
    ")  # `get_admin_password` is now `secure_func` from above\n",
    "\n",
    "user = {\"username\": \"jose\", \"access_level\": \"guest\"}\n",
    "print(get_admin_password())  # Now we check access level\n",
    "\n",
    "user = {\"username\": \"bob\", \"access_level\": \"admin\"}\n",
    "print(get_admin_password())  # Now we check access level"
   ]
  },
  {
   "cell_type": "markdown",
   "id": "c3c51a33",
   "metadata": {},
   "source": [
    "-- More information or error handling --"
   ]
  },
  {
   "cell_type": "code",
   "execution_count": null,
   "id": "a9cf9821",
   "metadata": {},
   "outputs": [],
   "source": [
    "def get_admin_password():\n",
    "    return \"1234\"\n",
    "\n",
    "\n",
    "def make_secure(func):\n",
    "    def secure_function():\n",
    "        if user[\"access_level\"] == \"admin\":\n",
    "            return func()\n",
    "        else:\n",
    "            return f\"No admin permissions for {user['username']}.\"\n",
    "\n",
    "    return secure_function\n",
    "\n",
    "\n",
    "get_admin_password = make_secure(\n",
    "    get_admin_password\n",
    ")  # `get_admin_password` is now `secure_func` from above\n",
    "\n",
    "user = {\"username\": \"jose\", \"access_level\": \"guest\"}\n",
    "print(get_admin_password())  # Now we check access level\n",
    "\n",
    "user = {\"username\": \"bob\", \"access_level\": \"admin\"}\n",
    "print(get_admin_password())  # Now we check access level"
   ]
  },
  {
   "cell_type": "code",
   "execution_count": null,
   "id": "79280916",
   "metadata": {},
   "outputs": [],
   "source": []
  }
 ],
 "metadata": {
  "kernelspec": {
   "display_name": "Python 3 (ipykernel)",
   "language": "python",
   "name": "python3"
  },
  "language_info": {
   "codemirror_mode": {
    "name": "ipython",
    "version": 3
   },
   "file_extension": ".py",
   "mimetype": "text/x-python",
   "name": "python",
   "nbconvert_exporter": "python",
   "pygments_lexer": "ipython3",
   "version": "3.10.9"
  }
 },
 "nbformat": 4,
 "nbformat_minor": 5
}
