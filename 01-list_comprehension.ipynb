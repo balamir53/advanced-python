{
 "cells": [
  {
   "cell_type": "code",
   "execution_count": null,
   "id": "32e79063",
   "metadata": {},
   "outputs": [],
   "source": [
    "fruits = [\"apple\", \"banana\", \"cherry\", \"kiwi\", \"mango\"]\n",
    "newlist = []\n",
    "\n",
    "for x in fruits:\n",
    "  if \"a\" in x:\n",
    "    newlist.append(x)\n",
    "\n",
    "print(newlist)"
   ]
  },
  {
   "cell_type": "markdown",
   "id": "2d1da871",
   "metadata": {},
   "source": [
    "Do the same via list comprehensions"
   ]
  },
  {
   "cell_type": "code",
   "execution_count": null,
   "id": "24b7bbe5",
   "metadata": {},
   "outputs": [],
   "source": [
    "fruits = [\"apple\", \"banana\", \"cherry\", \"kiwi\", \"mango\"]\n",
    "\n",
    "newlist = []\n",
    "\n",
    "print(newlist)"
   ]
  },
  {
   "cell_type": "markdown",
   "id": "dc678fe6",
   "metadata": {},
   "source": [
    "Only accept items that are not \"apple\":"
   ]
  },
  {
   "cell_type": "code",
   "execution_count": null,
   "id": "eaa9d58b",
   "metadata": {},
   "outputs": [],
   "source": [
    "newlist = []\n",
    "print(newlist)"
   ]
  },
  {
   "cell_type": "markdown",
   "id": "f125c4e9",
   "metadata": {},
   "source": [
    "You can use the range() function to create an iterable. Take the first 10 elements."
   ]
  },
  {
   "cell_type": "code",
   "execution_count": null,
   "id": "4d4f672d",
   "metadata": {},
   "outputs": [],
   "source": [
    "newlist = []\n",
    "print(newlist)"
   ]
  },
  {
   "cell_type": "markdown",
   "id": "a12f2f59",
   "metadata": {},
   "source": [
    "Accept only numbers lower than 5 in this range"
   ]
  },
  {
   "cell_type": "code",
   "execution_count": null,
   "id": "9d4c132b",
   "metadata": {},
   "outputs": [],
   "source": [
    "newlist = []\n",
    "print(newlist)"
   ]
  },
  {
   "cell_type": "markdown",
   "id": "da45b439",
   "metadata": {},
   "source": [
    "Set the values in the new list to upper case:"
   ]
  },
  {
   "cell_type": "code",
   "execution_count": null,
   "id": "aff31b4b",
   "metadata": {},
   "outputs": [],
   "source": [
    "newlist = []\n",
    "print(newlist)"
   ]
  },
  {
   "cell_type": "markdown",
   "id": "83a3ef2e",
   "metadata": {},
   "source": [
    "Set all values in the new list to 'hello':"
   ]
  },
  {
   "cell_type": "code",
   "execution_count": null,
   "id": "7153e0dc",
   "metadata": {},
   "outputs": [],
   "source": [
    "newlist = []\n",
    "print(newlist)"
   ]
  },
  {
   "cell_type": "markdown",
   "id": "79752ce5",
   "metadata": {},
   "source": [
    "Return \"orange\" instead of \"banana\":"
   ]
  },
  {
   "cell_type": "code",
   "execution_count": null,
   "id": "d6b872d4",
   "metadata": {},
   "outputs": [],
   "source": [
    "newlist = []\n",
    "print(newlist)"
   ]
  }
 ],
 "metadata": {
  "kernelspec": {
   "display_name": "Python 3 (ipykernel)",
   "language": "python",
   "name": "python3"
  },
  "language_info": {
   "codemirror_mode": {
    "name": "ipython",
    "version": 3
   },
   "file_extension": ".py",
   "mimetype": "text/x-python",
   "name": "python",
   "nbconvert_exporter": "python",
   "pygments_lexer": "ipython3",
   "version": "3.10.9"
  }
 },
 "nbformat": 4,
 "nbformat_minor": 5
}
