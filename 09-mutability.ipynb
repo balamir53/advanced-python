{
 "cells": [
  {
   "cell_type": "code",
   "execution_count": 17,
   "id": "724fdcf3",
   "metadata": {},
   "outputs": [],
   "source": [
    "a = []\n",
    "b = a"
   ]
  },
  {
   "cell_type": "code",
   "execution_count": 18,
   "id": "737a95d1",
   "metadata": {},
   "outputs": [
    {
     "name": "stdout",
     "output_type": "stream",
     "text": [
      "[35]\n",
      "[35]\n"
     ]
    }
   ],
   "source": [
    "a.append(35)  # Modify the value.\n",
    "\n",
    "print(a)\n",
    "print(b)\n",
    "\n",
    "# We mutated (changed) the value, its names still point to the _same thing_, so it doesn't matter which name you use."
   ]
  },
  {
   "cell_type": "code",
   "execution_count": 19,
   "id": "222ebc35",
   "metadata": {},
   "outputs": [
    {
     "name": "stdout",
     "output_type": "stream",
     "text": [
      "[35]\n",
      "[]\n"
     ]
    }
   ],
   "source": [
    "a = []\n",
    "b = []\n",
    "\n",
    "a.append(35)\n",
    "\n",
    "print(a)\n",
    "print(b)\n",
    "\n",
    "# Here they are different lists, because [] creates a new list every time. You can check whether two things are the _same_ one by usingt the `id()` function:"
   ]
  },
  {
   "cell_type": "code",
   "execution_count": 20,
   "id": "b01743dd",
   "metadata": {},
   "outputs": [
    {
     "name": "stdout",
     "output_type": "stream",
     "text": [
      "2129592854848\n",
      "2129593122112\n"
     ]
    }
   ],
   "source": [
    "print(id(a))\n",
    "print(id(b))  # Different from id(a)"
   ]
  },
  {
   "cell_type": "code",
   "execution_count": 26,
   "id": "7e7fd93c",
   "metadata": {},
   "outputs": [
    {
     "name": "stdout",
     "output_type": "stream",
     "text": [
      "False\n",
      "2129588687376\n",
      "2129588693648\n"
     ]
    }
   ],
   "source": [
    "# -- immutable --\n",
    "\n",
    "# Some values can't be changed because they don't have methods that modify the value itself.\n",
    "# In case of the list, `.append()` mutates the list.\n",
    "# For example integers don't have any such methods, so they are called _immutable_.\n",
    "a = 8597\n",
    "b = 8597\n",
    "print(a is b)\n",
    "print(id(a))\n",
    "print(id(b))  # Same one"
   ]
  },
  {
   "cell_type": "code",
   "execution_count": 15,
   "id": "936ae088",
   "metadata": {},
   "outputs": [
    {
     "name": "stdout",
     "output_type": "stream",
     "text": [
      "2129588697904\n",
      "2129588698224\n"
     ]
    }
   ],
   "source": [
    "a = 8598\n",
    "\n",
    "print(id(a))\n",
    "print(id(b))"
   ]
  },
  {
   "cell_type": "code",
   "execution_count": 22,
   "id": "1888aa33",
   "metadata": {},
   "outputs": [
    {
     "name": "stdout",
     "output_type": "stream",
     "text": [
      "2129583756272\n",
      "2129583756272\n"
     ]
    }
   ],
   "source": [
    "# Most things are mutable in Python. If you want to keep one of your classes immutable, don't add any methods that change the objects' properties.\n",
    "\n",
    "# Tuples and strings are the only fundamental collection in Python which is immutable.\n",
    "# Lists, sets, dictionaries are all mutable.\n",
    "# Integers, floats, and booleans are all immutable.\n",
    "\n",
    "# -- += and similar --\n",
    "\n",
    "# A lot of beginners think this:\n",
    "\n",
    "a = \"hello\"\n",
    "b = a\n",
    "\n",
    "print(id(a))\n",
    "print(id(b))"
   ]
  },
  {
   "cell_type": "code",
   "execution_count": 23,
   "id": "ca9b4fc9",
   "metadata": {},
   "outputs": [
    {
     "name": "stdout",
     "output_type": "stream",
     "text": [
      "2129589641584\n",
      "2129583756272\n"
     ]
    }
   ],
   "source": [
    "a += \"world\"\n",
    "\n",
    "# Would cause 'b' to change\n",
    "# But it doesn't, because strings are immutable. When you do str + str, a _new_ string is created.\n",
    "# This means that a becomes a new string containing \"helloworld\", but b still is a name for \"hello\".\n",
    "\n",
    "print(id(a))\n",
    "print(id(b))"
   ]
  },
  {
   "cell_type": "code",
   "execution_count": null,
   "id": "c79d1dea",
   "metadata": {},
   "outputs": [],
   "source": []
  }
 ],
 "metadata": {
  "kernelspec": {
   "display_name": "Python 3 (ipykernel)",
   "language": "python",
   "name": "python3"
  },
  "language_info": {
   "codemirror_mode": {
    "name": "ipython",
    "version": 3
   },
   "file_extension": ".py",
   "mimetype": "text/x-python",
   "name": "python",
   "nbconvert_exporter": "python",
   "pygments_lexer": "ipython3",
   "version": "3.10.9"
  }
 },
 "nbformat": 4,
 "nbformat_minor": 5
}
